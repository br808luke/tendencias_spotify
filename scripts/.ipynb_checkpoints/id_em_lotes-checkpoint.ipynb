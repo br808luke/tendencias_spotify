{
 "cells": [
  {
   "cell_type": "code",
   "execution_count": 1,
   "id": "7a081053-0f99-4e04-8998-3c017021092d",
   "metadata": {},
   "outputs": [
    {
     "name": "stdout",
     "output_type": "stream",
     "text": [
      "✅ 50 arquivos gerados em: track_ids_em_lotes\n"
     ]
    }
   ],
   "source": [
    "import pandas as pd\n",
    "import math\n",
    "import os\n",
    "\n",
    "# Arquivos de origem\n",
    "arquivos_csv = [\n",
    "    \"spotify_charts_ids_2022.csv\",\n",
    "    \"spotify_charts_ids_2023.csv\",\n",
    "    \"spotify_charts_ids_2024.csv\"\n",
    "]\n",
    "\n",
    "# Lê e concatena todos os track_ids\n",
    "df_total = pd.concat([pd.read_csv(arquivo) for arquivo in arquivos_csv], ignore_index=True)\n",
    "\n",
    "# Mantém apenas a coluna track_id e remove duplicatas\n",
    "df_unicos = df_total[[\"track_id\"]].drop_duplicates().reset_index(drop=True)\n",
    "\n",
    "# Define tamanho de lote e calcula número de partes\n",
    "tamanho_lote = 50\n",
    "total_lotes = math.ceil(len(df_unicos) / tamanho_lote)\n",
    "\n",
    "# Cria pasta de saída\n",
    "pasta_saida = \"track_ids_em_lotes\"\n",
    "os.makedirs(pasta_saida, exist_ok=True)\n",
    "\n",
    "# Divide em lotes e salva\n",
    "for i in range(total_lotes):\n",
    "    inicio = i * tamanho_lote\n",
    "    fim = inicio + tamanho_lote\n",
    "    df_lote = df_unicos.iloc[inicio:fim]\n",
    "    nome_arquivo = os.path.join(pasta_saida, f\"spotify_track_ids_parte_{i+1:03}.csv\")\n",
    "    df_lote.to_csv(nome_arquivo, index=False)\n",
    "\n",
    "print(f\"✅ {total_lotes} arquivos gerados em: {pasta_saida}\")\n"
   ]
  },
  {
   "cell_type": "code",
   "execution_count": null,
   "id": "07be0c37-f9c4-4a96-9c63-c120c0f62885",
   "metadata": {},
   "outputs": [],
   "source": []
  }
 ],
 "metadata": {
  "kernelspec": {
   "display_name": "Python 3 (ipykernel)",
   "language": "python",
   "name": "python3"
  },
  "language_info": {
   "codemirror_mode": {
    "name": "ipython",
    "version": 3
   },
   "file_extension": ".py",
   "mimetype": "text/x-python",
   "name": "python",
   "nbconvert_exporter": "python",
   "pygments_lexer": "ipython3",
   "version": "3.12.7"
  }
 },
 "nbformat": 4,
 "nbformat_minor": 5
}
