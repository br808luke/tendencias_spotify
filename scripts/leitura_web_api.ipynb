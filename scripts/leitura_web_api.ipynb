{
 "cells": [
  {
   "cell_type": "code",
   "execution_count": 1,
   "id": "d4cac8bc-371c-4398-bf58-56c8719b7ae9",
   "metadata": {},
   "outputs": [
    {
     "name": "stderr",
     "output_type": "stream",
     "text": [
      "Consultando lotes: 100%|████████████████████████████████████████████████████████████████████████████████████████████████████████████████████████████████████████████████████████| 111/111 [01:11<00:00,  1.55it/s]"
     ]
    },
    {
     "name": "stdout",
     "output_type": "stream",
     "text": [
      "✅ Arquivo final salvo: C:\\Users\\Lucas\\Documents\\Coding\\analise_duracao_spotify\\data\\raw\\spotify_tracks_detalhes.csv\n"
     ]
    },
    {
     "name": "stderr",
     "output_type": "stream",
     "text": [
      "\n"
     ]
    }
   ],
   "source": [
    "import pandas as pd\n",
    "import requests\n",
    "import time\n",
    "import os\n",
    "from tqdm import tqdm\n",
    "\n",
    "# 🚨 Substitua por suas credenciais Spotify\n",
    "CLIENT_ID = \"d340981fec2c4ef69d7c18f3718ea66b\"\n",
    "CLIENT_SECRET = \"44543e32c9794347a336d2675b518d73\"\n",
    "\n",
    "# Autenticação com Client Credentials Flow\n",
    "def autenticar_spotify(client_id, client_secret):\n",
    "    url = \"https://accounts.spotify.com/api/token\"\n",
    "    resp = requests.post(url, {\n",
    "        \"grant_type\": \"client_credentials\",\n",
    "        \"client_id\": client_id,\n",
    "        \"client_secret\": client_secret\n",
    "    })\n",
    "    resp.raise_for_status()\n",
    "    return resp.json()[\"access_token\"]\n",
    "\n",
    "# Consulta até 50 faixas por chamada\n",
    "def buscar_tracks_em_lote(ids, token):\n",
    "    url = \"https://api.spotify.com/v1/tracks\"\n",
    "    headers = {\"Authorization\": f\"Bearer {token}\"}\n",
    "    params = {\"ids\": \",\".join(ids)}\n",
    "    resp = requests.get(url, headers=headers, params=params)\n",
    "    resp.raise_for_status()\n",
    "    return resp.json()[\"tracks\"]\n",
    "\n",
    "# Caminho da pasta com os CSVs de lotes (entrada) e pasta de destino (saída)\n",
    "pasta_lotes = r\"C:\\Users\\Lucas\\Documents\\Coding\\analise_duracao_spotify\\data\\raw\\blocos de id\"\n",
    "pasta_saida = r\"C:\\Users\\Lucas\\Documents\\Coding\\analise_duracao_spotify\\data\\raw\"\n",
    "os.makedirs(pasta_saida, exist_ok=True)\n",
    "\n",
    "# Autentica e obtém token\n",
    "token = autenticar_spotify(CLIENT_ID, CLIENT_SECRET)\n",
    "\n",
    "# Lista de todos os arquivos CSV na pasta\n",
    "arquivos = sorted([\n",
    "    os.path.join(pasta_lotes, f) for f in os.listdir(pasta_lotes)\n",
    "    if f.endswith(\".csv\")\n",
    "])\n",
    "\n",
    "# Lista para armazenar os resultados\n",
    "registros = []\n",
    "\n",
    "# Loop por cada arquivo CSV\n",
    "for arquivo in tqdm(arquivos, desc=\"Consultando lotes\"):\n",
    "    df_ids = pd.read_csv(arquivo)\n",
    "    ids = df_ids[\"track_id\"].dropna().tolist()\n",
    "\n",
    "    try:\n",
    "        tracks = buscar_tracks_em_lote(ids, token)\n",
    "        for track in tracks:\n",
    "            if track is None:\n",
    "                continue\n",
    "            registros.append({\n",
    "                \"track_id\": track[\"id\"],\n",
    "                \"name\": track[\"name\"],\n",
    "                \"artists\": \", \".join([a[\"name\"] for a in track[\"artists\"]]),\n",
    "                \"album\": track[\"album\"][\"name\"],\n",
    "                \"release_date\": track[\"album\"][\"release_date\"],\n",
    "                \"duration_ms\": track[\"duration_ms\"],\n",
    "                \"explicit\": track[\"explicit\"],\n",
    "                \"popularity\": track[\"popularity\"],\n",
    "                \"preview_url\": track[\"preview_url\"],\n",
    "                \"spotify_url\": track[\"external_urls\"][\"spotify\"]\n",
    "            })\n",
    "        time.sleep(0.2)  # Evita rate limiting\n",
    "    except Exception as e:\n",
    "        print(f\"Erro no arquivo {arquivo}: {e}\")\n",
    "\n",
    "# Converte para DataFrame final\n",
    "df_final = pd.DataFrame(registros)\n",
    "\n",
    "# Caminho completo para o arquivo de saída\n",
    "arquivo_saida = os.path.join(pasta_saida, \"spotify_tracks_detalhes.csv\")\n",
    "df_final.to_csv(arquivo_saida, index=False)\n",
    "print(f\"✅ Arquivo final salvo: {arquivo_saida}\")\n"
   ]
  },
  {
   "cell_type": "code",
   "execution_count": null,
   "id": "dbccb841-2362-46d6-9c11-eda73a557e52",
   "metadata": {},
   "outputs": [],
   "source": []
  }
 ],
 "metadata": {
  "kernelspec": {
   "display_name": "Python 3 (ipykernel)",
   "language": "python",
   "name": "python3"
  },
  "language_info": {
   "codemirror_mode": {
    "name": "ipython",
    "version": 3
   },
   "file_extension": ".py",
   "mimetype": "text/x-python",
   "name": "python",
   "nbconvert_exporter": "python",
   "pygments_lexer": "ipython3",
   "version": "3.12.7"
  }
 },
 "nbformat": 4,
 "nbformat_minor": 5
}
