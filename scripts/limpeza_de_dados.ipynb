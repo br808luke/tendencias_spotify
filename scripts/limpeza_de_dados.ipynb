{
 "cells": [
  {
   "cell_type": "code",
   "execution_count": 1,
   "id": "163fda73-7998-4969-a64d-9d4f31c6f4f9",
   "metadata": {},
   "outputs": [],
   "source": [
    "import pandas as pd\n",
    "import os\n",
    "\n",
    "# Caminho do arquivo único\n",
    "caminho_arquivo = r\"C:\\Users\\Lucas\\Documents\\Coding\\analise_duracao_spotify\\data\\raw\\spotify_tracks_detalhes.csv\"\n",
    "\n",
    "# Leitura do arquivo\n",
    "df = pd.read_csv(caminho_arquivo)"
   ]
  },
  {
   "cell_type": "code",
   "execution_count": 2,
   "id": "104d1d38-5674-464b-bf27-83a5d9d351e1",
   "metadata": {},
   "outputs": [
    {
     "data": {
      "text/html": [
       "<div>\n",
       "<style scoped>\n",
       "    .dataframe tbody tr th:only-of-type {\n",
       "        vertical-align: middle;\n",
       "    }\n",
       "\n",
       "    .dataframe tbody tr th {\n",
       "        vertical-align: top;\n",
       "    }\n",
       "\n",
       "    .dataframe thead th {\n",
       "        text-align: right;\n",
       "    }\n",
       "</style>\n",
       "<table border=\"1\" class=\"dataframe\">\n",
       "  <thead>\n",
       "    <tr style=\"text-align: right;\">\n",
       "      <th></th>\n",
       "      <th>track_id</th>\n",
       "      <th>name</th>\n",
       "      <th>artists</th>\n",
       "      <th>album</th>\n",
       "      <th>release_date</th>\n",
       "      <th>duration_ms</th>\n",
       "      <th>explicit</th>\n",
       "      <th>popularity</th>\n",
       "      <th>preview_url</th>\n",
       "      <th>spotify_url</th>\n",
       "    </tr>\n",
       "  </thead>\n",
       "  <tbody>\n",
       "    <tr>\n",
       "      <th>0</th>\n",
       "      <td>3hIFGEywPETgcaxrTTt2lD</td>\n",
       "      <td>Falei pra Elas</td>\n",
       "      <td>MC G15</td>\n",
       "      <td>Falei pra Elas</td>\n",
       "      <td>2016-10-06</td>\n",
       "      <td>226185</td>\n",
       "      <td>True</td>\n",
       "      <td>0</td>\n",
       "      <td>NaN</td>\n",
       "      <td>https://open.spotify.com/track/3hIFGEywPETgcax...</td>\n",
       "    </tr>\n",
       "    <tr>\n",
       "      <th>1</th>\n",
       "      <td>6DNtNfH8hXkqOX1sjqmI7p</td>\n",
       "      <td>Cold Water (feat. Justin Bieber &amp; MØ)</td>\n",
       "      <td>Major Lazer, Justin Bieber, MØ</td>\n",
       "      <td>Cold Water (feat. Justin Bieber &amp; MØ)</td>\n",
       "      <td>2016-07-22</td>\n",
       "      <td>185351</td>\n",
       "      <td>False</td>\n",
       "      <td>3</td>\n",
       "      <td>NaN</td>\n",
       "      <td>https://open.spotify.com/track/6DNtNfH8hXkqOX1...</td>\n",
       "    </tr>\n",
       "    <tr>\n",
       "      <th>2</th>\n",
       "      <td>3NdDpSvN911VPGivFlV5d0</td>\n",
       "      <td>I Don’t Wanna Live Forever (Fifty Shades Darker)</td>\n",
       "      <td>ZAYN, Taylor Swift</td>\n",
       "      <td>I Don’t Wanna Live Forever (Fifty Shades Darker)</td>\n",
       "      <td>2016-12-09</td>\n",
       "      <td>245200</td>\n",
       "      <td>False</td>\n",
       "      <td>2</td>\n",
       "      <td>NaN</td>\n",
       "      <td>https://open.spotify.com/track/3NdDpSvN911VPGi...</td>\n",
       "    </tr>\n",
       "    <tr>\n",
       "      <th>3</th>\n",
       "      <td>4RuvPSCJ7xvRVOxiFBUt9B</td>\n",
       "      <td>Tchuk Tchuk</td>\n",
       "      <td>Mc Gui, MC THD</td>\n",
       "      <td>Tchuk Tchuk</td>\n",
       "      <td>2016-10-07</td>\n",
       "      <td>195685</td>\n",
       "      <td>False</td>\n",
       "      <td>0</td>\n",
       "      <td>NaN</td>\n",
       "      <td>https://open.spotify.com/track/4RuvPSCJ7xvRVOx...</td>\n",
       "    </tr>\n",
       "    <tr>\n",
       "      <th>4</th>\n",
       "      <td>4owo0j5bw45IqiHxsTzcd6</td>\n",
       "      <td>Amei Te Ver</td>\n",
       "      <td>TIAGO IORC</td>\n",
       "      <td>Troco Likes</td>\n",
       "      <td>2015-07-10</td>\n",
       "      <td>257847</td>\n",
       "      <td>False</td>\n",
       "      <td>63</td>\n",
       "      <td>NaN</td>\n",
       "      <td>https://open.spotify.com/track/4owo0j5bw45IqiH...</td>\n",
       "    </tr>\n",
       "  </tbody>\n",
       "</table>\n",
       "</div>"
      ],
      "text/plain": [
       "                 track_id                                              name  \\\n",
       "0  3hIFGEywPETgcaxrTTt2lD                                    Falei pra Elas   \n",
       "1  6DNtNfH8hXkqOX1sjqmI7p             Cold Water (feat. Justin Bieber & MØ)   \n",
       "2  3NdDpSvN911VPGivFlV5d0  I Don’t Wanna Live Forever (Fifty Shades Darker)   \n",
       "3  4RuvPSCJ7xvRVOxiFBUt9B                                       Tchuk Tchuk   \n",
       "4  4owo0j5bw45IqiHxsTzcd6                                       Amei Te Ver   \n",
       "\n",
       "                          artists  \\\n",
       "0                          MC G15   \n",
       "1  Major Lazer, Justin Bieber, MØ   \n",
       "2              ZAYN, Taylor Swift   \n",
       "3                  Mc Gui, MC THD   \n",
       "4                      TIAGO IORC   \n",
       "\n",
       "                                              album release_date  duration_ms  \\\n",
       "0                                    Falei pra Elas   2016-10-06       226185   \n",
       "1             Cold Water (feat. Justin Bieber & MØ)   2016-07-22       185351   \n",
       "2  I Don’t Wanna Live Forever (Fifty Shades Darker)   2016-12-09       245200   \n",
       "3                                       Tchuk Tchuk   2016-10-07       195685   \n",
       "4                                       Troco Likes   2015-07-10       257847   \n",
       "\n",
       "   explicit  popularity  preview_url  \\\n",
       "0      True           0          NaN   \n",
       "1     False           3          NaN   \n",
       "2     False           2          NaN   \n",
       "3     False           0          NaN   \n",
       "4     False          63          NaN   \n",
       "\n",
       "                                         spotify_url  \n",
       "0  https://open.spotify.com/track/3hIFGEywPETgcax...  \n",
       "1  https://open.spotify.com/track/6DNtNfH8hXkqOX1...  \n",
       "2  https://open.spotify.com/track/3NdDpSvN911VPGi...  \n",
       "3  https://open.spotify.com/track/4RuvPSCJ7xvRVOx...  \n",
       "4  https://open.spotify.com/track/4owo0j5bw45IqiH...  "
      ]
     },
     "execution_count": 2,
     "metadata": {},
     "output_type": "execute_result"
    }
   ],
   "source": [
    "df.head()"
   ]
  },
  {
   "cell_type": "code",
   "execution_count": 3,
   "id": "5c8bef9d-f929-4214-8fc9-4ed784cf178d",
   "metadata": {},
   "outputs": [
    {
     "data": {
      "text/plain": [
       "Index(['track_id', 'name', 'artists', 'album', 'release_date', 'duration_ms',\n",
       "       'explicit', 'popularity', 'preview_url', 'spotify_url'],\n",
       "      dtype='object')"
      ]
     },
     "execution_count": 3,
     "metadata": {},
     "output_type": "execute_result"
    }
   ],
   "source": [
    "df.columns"
   ]
  },
  {
   "cell_type": "code",
   "execution_count": 4,
   "id": "79556a52-e668-471a-9724-0120bca31031",
   "metadata": {},
   "outputs": [
    {
     "data": {
      "text/plain": [
       "track_id         object\n",
       "name             object\n",
       "artists          object\n",
       "album            object\n",
       "release_date     object\n",
       "duration_ms       int64\n",
       "explicit           bool\n",
       "popularity        int64\n",
       "preview_url     float64\n",
       "spotify_url      object\n",
       "dtype: object"
      ]
     },
     "execution_count": 4,
     "metadata": {},
     "output_type": "execute_result"
    }
   ],
   "source": [
    "df.dtypes"
   ]
  },
  {
   "cell_type": "code",
   "execution_count": 5,
   "id": "e113d66a-8f7e-4aa7-82c1-9d81959a00fb",
   "metadata": {},
   "outputs": [
    {
     "data": {
      "text/plain": [
       "track_id           0\n",
       "name               0\n",
       "artists            0\n",
       "album              0\n",
       "release_date       0\n",
       "duration_ms        0\n",
       "explicit           0\n",
       "popularity         0\n",
       "preview_url     5547\n",
       "spotify_url        0\n",
       "dtype: int64"
      ]
     },
     "execution_count": 5,
     "metadata": {},
     "output_type": "execute_result"
    }
   ],
   "source": [
    "df.isnull().sum()"
   ]
  },
  {
   "cell_type": "code",
   "execution_count": 6,
   "id": "51108115-d4ff-4205-83bd-7ef5afcc6af9",
   "metadata": {},
   "outputs": [
    {
     "data": {
      "text/html": [
       "<div>\n",
       "<style scoped>\n",
       "    .dataframe tbody tr th:only-of-type {\n",
       "        vertical-align: middle;\n",
       "    }\n",
       "\n",
       "    .dataframe tbody tr th {\n",
       "        vertical-align: top;\n",
       "    }\n",
       "\n",
       "    .dataframe thead th {\n",
       "        text-align: right;\n",
       "    }\n",
       "</style>\n",
       "<table border=\"1\" class=\"dataframe\">\n",
       "  <thead>\n",
       "    <tr style=\"text-align: right;\">\n",
       "      <th></th>\n",
       "      <th>track_id</th>\n",
       "      <th>name</th>\n",
       "      <th>artists</th>\n",
       "      <th>album</th>\n",
       "      <th>release_date</th>\n",
       "      <th>duration_ms</th>\n",
       "      <th>explicit</th>\n",
       "      <th>popularity</th>\n",
       "      <th>preview_url</th>\n",
       "      <th>spotify_url</th>\n",
       "    </tr>\n",
       "  </thead>\n",
       "  <tbody>\n",
       "  </tbody>\n",
       "</table>\n",
       "</div>"
      ],
      "text/plain": [
       "Empty DataFrame\n",
       "Columns: [track_id, name, artists, album, release_date, duration_ms, explicit, popularity, preview_url, spotify_url]\n",
       "Index: []"
      ]
     },
     "execution_count": 6,
     "metadata": {},
     "output_type": "execute_result"
    }
   ],
   "source": [
    "df[df.duplicated(keep=False)]"
   ]
  },
  {
   "cell_type": "code",
   "execution_count": 7,
   "id": "2099445f-4de2-4469-8d68-19916a8f2c28",
   "metadata": {},
   "outputs": [],
   "source": [
    "df = df.drop_duplicates()"
   ]
  },
  {
   "cell_type": "code",
   "execution_count": 8,
   "id": "682b3087-d08e-45c1-bf6c-631f7079d69d",
   "metadata": {},
   "outputs": [
    {
     "data": {
      "text/plain": [
       "(5547, 10)"
      ]
     },
     "execution_count": 8,
     "metadata": {},
     "output_type": "execute_result"
    }
   ],
   "source": [
    "df.shape"
   ]
  },
  {
   "cell_type": "code",
   "execution_count": 9,
   "id": "65114c46-b892-4445-8af1-a8ec405c7117",
   "metadata": {},
   "outputs": [],
   "source": [
    "df = df.drop(columns=[\"preview_url\", \"spotify_url\"])"
   ]
  },
  {
   "cell_type": "code",
   "execution_count": 10,
   "id": "b898599e-b20c-49cf-a6d7-45b223099158",
   "metadata": {},
   "outputs": [
    {
     "data": {
      "text/html": [
       "<div>\n",
       "<style scoped>\n",
       "    .dataframe tbody tr th:only-of-type {\n",
       "        vertical-align: middle;\n",
       "    }\n",
       "\n",
       "    .dataframe tbody tr th {\n",
       "        vertical-align: top;\n",
       "    }\n",
       "\n",
       "    .dataframe thead th {\n",
       "        text-align: right;\n",
       "    }\n",
       "</style>\n",
       "<table border=\"1\" class=\"dataframe\">\n",
       "  <thead>\n",
       "    <tr style=\"text-align: right;\">\n",
       "      <th></th>\n",
       "      <th>track_id</th>\n",
       "      <th>name</th>\n",
       "      <th>artists</th>\n",
       "      <th>album</th>\n",
       "      <th>release_date</th>\n",
       "      <th>duration_ms</th>\n",
       "      <th>explicit</th>\n",
       "      <th>popularity</th>\n",
       "    </tr>\n",
       "  </thead>\n",
       "  <tbody>\n",
       "    <tr>\n",
       "      <th>0</th>\n",
       "      <td>3hIFGEywPETgcaxrTTt2lD</td>\n",
       "      <td>Falei pra Elas</td>\n",
       "      <td>MC G15</td>\n",
       "      <td>Falei pra Elas</td>\n",
       "      <td>2016-10-06</td>\n",
       "      <td>226185</td>\n",
       "      <td>True</td>\n",
       "      <td>0</td>\n",
       "    </tr>\n",
       "    <tr>\n",
       "      <th>1</th>\n",
       "      <td>6DNtNfH8hXkqOX1sjqmI7p</td>\n",
       "      <td>Cold Water (feat. Justin Bieber &amp; MØ)</td>\n",
       "      <td>Major Lazer, Justin Bieber, MØ</td>\n",
       "      <td>Cold Water (feat. Justin Bieber &amp; MØ)</td>\n",
       "      <td>2016-07-22</td>\n",
       "      <td>185351</td>\n",
       "      <td>False</td>\n",
       "      <td>3</td>\n",
       "    </tr>\n",
       "    <tr>\n",
       "      <th>2</th>\n",
       "      <td>3NdDpSvN911VPGivFlV5d0</td>\n",
       "      <td>I Don’t Wanna Live Forever (Fifty Shades Darker)</td>\n",
       "      <td>ZAYN, Taylor Swift</td>\n",
       "      <td>I Don’t Wanna Live Forever (Fifty Shades Darker)</td>\n",
       "      <td>2016-12-09</td>\n",
       "      <td>245200</td>\n",
       "      <td>False</td>\n",
       "      <td>2</td>\n",
       "    </tr>\n",
       "    <tr>\n",
       "      <th>3</th>\n",
       "      <td>4RuvPSCJ7xvRVOxiFBUt9B</td>\n",
       "      <td>Tchuk Tchuk</td>\n",
       "      <td>Mc Gui, MC THD</td>\n",
       "      <td>Tchuk Tchuk</td>\n",
       "      <td>2016-10-07</td>\n",
       "      <td>195685</td>\n",
       "      <td>False</td>\n",
       "      <td>0</td>\n",
       "    </tr>\n",
       "    <tr>\n",
       "      <th>4</th>\n",
       "      <td>4owo0j5bw45IqiHxsTzcd6</td>\n",
       "      <td>Amei Te Ver</td>\n",
       "      <td>TIAGO IORC</td>\n",
       "      <td>Troco Likes</td>\n",
       "      <td>2015-07-10</td>\n",
       "      <td>257847</td>\n",
       "      <td>False</td>\n",
       "      <td>63</td>\n",
       "    </tr>\n",
       "  </tbody>\n",
       "</table>\n",
       "</div>"
      ],
      "text/plain": [
       "                 track_id                                              name  \\\n",
       "0  3hIFGEywPETgcaxrTTt2lD                                    Falei pra Elas   \n",
       "1  6DNtNfH8hXkqOX1sjqmI7p             Cold Water (feat. Justin Bieber & MØ)   \n",
       "2  3NdDpSvN911VPGivFlV5d0  I Don’t Wanna Live Forever (Fifty Shades Darker)   \n",
       "3  4RuvPSCJ7xvRVOxiFBUt9B                                       Tchuk Tchuk   \n",
       "4  4owo0j5bw45IqiHxsTzcd6                                       Amei Te Ver   \n",
       "\n",
       "                          artists  \\\n",
       "0                          MC G15   \n",
       "1  Major Lazer, Justin Bieber, MØ   \n",
       "2              ZAYN, Taylor Swift   \n",
       "3                  Mc Gui, MC THD   \n",
       "4                      TIAGO IORC   \n",
       "\n",
       "                                              album release_date  duration_ms  \\\n",
       "0                                    Falei pra Elas   2016-10-06       226185   \n",
       "1             Cold Water (feat. Justin Bieber & MØ)   2016-07-22       185351   \n",
       "2  I Don’t Wanna Live Forever (Fifty Shades Darker)   2016-12-09       245200   \n",
       "3                                       Tchuk Tchuk   2016-10-07       195685   \n",
       "4                                       Troco Likes   2015-07-10       257847   \n",
       "\n",
       "   explicit  popularity  \n",
       "0      True           0  \n",
       "1     False           3  \n",
       "2     False           2  \n",
       "3     False           0  \n",
       "4     False          63  "
      ]
     },
     "execution_count": 10,
     "metadata": {},
     "output_type": "execute_result"
    }
   ],
   "source": [
    "df.head()"
   ]
  },
  {
   "cell_type": "code",
   "execution_count": 11,
   "id": "7e794800-91af-4c7e-8874-33b053467cbb",
   "metadata": {},
   "outputs": [
    {
     "data": {
      "text/html": [
       "<div>\n",
       "<style scoped>\n",
       "    .dataframe tbody tr th:only-of-type {\n",
       "        vertical-align: middle;\n",
       "    }\n",
       "\n",
       "    .dataframe tbody tr th {\n",
       "        vertical-align: top;\n",
       "    }\n",
       "\n",
       "    .dataframe thead th {\n",
       "        text-align: right;\n",
       "    }\n",
       "</style>\n",
       "<table border=\"1\" class=\"dataframe\">\n",
       "  <thead>\n",
       "    <tr style=\"text-align: right;\">\n",
       "      <th></th>\n",
       "      <th>track_id</th>\n",
       "      <th>name</th>\n",
       "      <th>artists</th>\n",
       "      <th>album</th>\n",
       "      <th>release_date</th>\n",
       "      <th>duration_ms</th>\n",
       "      <th>explicit</th>\n",
       "      <th>popularity</th>\n",
       "    </tr>\n",
       "  </thead>\n",
       "  <tbody>\n",
       "    <tr>\n",
       "      <th>9</th>\n",
       "      <td>4TZy1wLyHec06pwgFYDh1a</td>\n",
       "      <td>Mercy</td>\n",
       "      <td>Shawn Mendes</td>\n",
       "      <td>Illuminate</td>\n",
       "      <td>2017-03-03</td>\n",
       "      <td>208733</td>\n",
       "      <td>False</td>\n",
       "      <td>0</td>\n",
       "    </tr>\n",
       "    <tr>\n",
       "      <th>13</th>\n",
       "      <td>6UZJOc2HBrTp9DYfir9N8n</td>\n",
       "      <td>Regime Fechado - Ao Vivo</td>\n",
       "      <td>Simone &amp; Simaria</td>\n",
       "      <td>Simone &amp; Simaria (Ao Vivo)</td>\n",
       "      <td>2016-10-28</td>\n",
       "      <td>232485</td>\n",
       "      <td>False</td>\n",
       "      <td>0</td>\n",
       "    </tr>\n",
       "    <tr>\n",
       "      <th>42</th>\n",
       "      <td>4Hf7WnR761jpxPr5D46Bcd</td>\n",
       "      <td>Treat You Better</td>\n",
       "      <td>Shawn Mendes</td>\n",
       "      <td>Illuminate</td>\n",
       "      <td>2017-03-03</td>\n",
       "      <td>187973</td>\n",
       "      <td>False</td>\n",
       "      <td>0</td>\n",
       "    </tr>\n",
       "    <tr>\n",
       "      <th>71</th>\n",
       "      <td>4GQVVsUnMbZeKIx9vguKlg</td>\n",
       "      <td>A Rosa E O Beija-Flor - Na Praia / Ao Vivo</td>\n",
       "      <td>Matheus &amp; Kauan</td>\n",
       "      <td>Na Praia (Ao Vivo)</td>\n",
       "      <td>2016-02-26</td>\n",
       "      <td>170853</td>\n",
       "      <td>False</td>\n",
       "      <td>0</td>\n",
       "    </tr>\n",
       "    <tr>\n",
       "      <th>87</th>\n",
       "      <td>5aAx2yezTd8zXrkmtKl66Z</td>\n",
       "      <td>Starboy</td>\n",
       "      <td>The Weeknd, Daft Punk</td>\n",
       "      <td>Starboy</td>\n",
       "      <td>2016-11-25</td>\n",
       "      <td>230453</td>\n",
       "      <td>True</td>\n",
       "      <td>5</td>\n",
       "    </tr>\n",
       "    <tr>\n",
       "      <th>...</th>\n",
       "      <td>...</td>\n",
       "      <td>...</td>\n",
       "      <td>...</td>\n",
       "      <td>...</td>\n",
       "      <td>...</td>\n",
       "      <td>...</td>\n",
       "      <td>...</td>\n",
       "      <td>...</td>\n",
       "    </tr>\n",
       "    <tr>\n",
       "      <th>5526</th>\n",
       "      <td>5k7JSycp97vL45zSOoUsTE</td>\n",
       "      <td>Seja Ex - Ao Vivo</td>\n",
       "      <td>Henrique &amp; Juliano</td>\n",
       "      <td>Manifesto Musical 2 (Ao Vivo / Vol.1)</td>\n",
       "      <td>2024-12-13</td>\n",
       "      <td>192034</td>\n",
       "      <td>False</td>\n",
       "      <td>75</td>\n",
       "    </tr>\n",
       "    <tr>\n",
       "      <th>5529</th>\n",
       "      <td>708yXS1fLm1gAXFyIQxtX2</td>\n",
       "      <td>Romântico - Ao Vivo</td>\n",
       "      <td>Henrique &amp; Juliano</td>\n",
       "      <td>Manifesto Musical 2 (Ao Vivo / Vol.1)</td>\n",
       "      <td>2024-12-13</td>\n",
       "      <td>183758</td>\n",
       "      <td>False</td>\n",
       "      <td>75</td>\n",
       "    </tr>\n",
       "    <tr>\n",
       "      <th>5531</th>\n",
       "      <td>3cwVKjzKSTfvacYJF6Tkub</td>\n",
       "      <td>Última Noite - Solo</td>\n",
       "      <td>Léo Foguete</td>\n",
       "      <td>Obrigado Deus</td>\n",
       "      <td>2024-10-26</td>\n",
       "      <td>154553</td>\n",
       "      <td>True</td>\n",
       "      <td>75</td>\n",
       "    </tr>\n",
       "    <tr>\n",
       "      <th>5534</th>\n",
       "      <td>10ccyY1qyhpOfjhMUWxbgk</td>\n",
       "      <td>Exposição - Ao Vivo em Goiânia</td>\n",
       "      <td>Maiara &amp; Maraisa</td>\n",
       "      <td>iMEMsidão (Ao Vivo em Goiânia)</td>\n",
       "      <td>2024-12-12</td>\n",
       "      <td>160311</td>\n",
       "      <td>False</td>\n",
       "      <td>55</td>\n",
       "    </tr>\n",
       "    <tr>\n",
       "      <th>5535</th>\n",
       "      <td>280QfKhmWGn3LbyB39aA7u</td>\n",
       "      <td>Cópia Proibida</td>\n",
       "      <td>Léo Foguete</td>\n",
       "      <td>Obrigado Deus</td>\n",
       "      <td>2024-10-26</td>\n",
       "      <td>159480</td>\n",
       "      <td>False</td>\n",
       "      <td>81</td>\n",
       "    </tr>\n",
       "  </tbody>\n",
       "</table>\n",
       "<p>1480 rows × 8 columns</p>\n",
       "</div>"
      ],
      "text/plain": [
       "                    track_id                                        name  \\\n",
       "9     4TZy1wLyHec06pwgFYDh1a                                       Mercy   \n",
       "13    6UZJOc2HBrTp9DYfir9N8n                    Regime Fechado - Ao Vivo   \n",
       "42    4Hf7WnR761jpxPr5D46Bcd                            Treat You Better   \n",
       "71    4GQVVsUnMbZeKIx9vguKlg  A Rosa E O Beija-Flor - Na Praia / Ao Vivo   \n",
       "87    5aAx2yezTd8zXrkmtKl66Z                                     Starboy   \n",
       "...                      ...                                         ...   \n",
       "5526  5k7JSycp97vL45zSOoUsTE                           Seja Ex - Ao Vivo   \n",
       "5529  708yXS1fLm1gAXFyIQxtX2                         Romântico - Ao Vivo   \n",
       "5531  3cwVKjzKSTfvacYJF6Tkub                         Última Noite - Solo   \n",
       "5534  10ccyY1qyhpOfjhMUWxbgk              Exposição - Ao Vivo em Goiânia   \n",
       "5535  280QfKhmWGn3LbyB39aA7u                              Cópia Proibida   \n",
       "\n",
       "                    artists                                  album  \\\n",
       "9              Shawn Mendes                             Illuminate   \n",
       "13         Simone & Simaria             Simone & Simaria (Ao Vivo)   \n",
       "42             Shawn Mendes                             Illuminate   \n",
       "71          Matheus & Kauan                     Na Praia (Ao Vivo)   \n",
       "87    The Weeknd, Daft Punk                                Starboy   \n",
       "...                     ...                                    ...   \n",
       "5526     Henrique & Juliano  Manifesto Musical 2 (Ao Vivo / Vol.1)   \n",
       "5529     Henrique & Juliano  Manifesto Musical 2 (Ao Vivo / Vol.1)   \n",
       "5531            Léo Foguete                          Obrigado Deus   \n",
       "5534       Maiara & Maraisa         iMEMsidão (Ao Vivo em Goiânia)   \n",
       "5535            Léo Foguete                          Obrigado Deus   \n",
       "\n",
       "     release_date  duration_ms  explicit  popularity  \n",
       "9      2017-03-03       208733     False           0  \n",
       "13     2016-10-28       232485     False           0  \n",
       "42     2017-03-03       187973     False           0  \n",
       "71     2016-02-26       170853     False           0  \n",
       "87     2016-11-25       230453      True           5  \n",
       "...           ...          ...       ...         ...  \n",
       "5526   2024-12-13       192034     False          75  \n",
       "5529   2024-12-13       183758     False          75  \n",
       "5531   2024-10-26       154553      True          75  \n",
       "5534   2024-12-12       160311     False          55  \n",
       "5535   2024-10-26       159480     False          81  \n",
       "\n",
       "[1480 rows x 8 columns]"
      ]
     },
     "execution_count": 11,
     "metadata": {},
     "output_type": "execute_result"
    }
   ],
   "source": [
    "df[df.duplicated(subset=[\"name\", \"artists\"], keep=False)]"
   ]
  },
  {
   "cell_type": "code",
   "execution_count": 12,
   "id": "656e962c-1438-4a08-99e1-ca971d8c9c3e",
   "metadata": {},
   "outputs": [
    {
     "data": {
      "text/html": [
       "<div>\n",
       "<style scoped>\n",
       "    .dataframe tbody tr th:only-of-type {\n",
       "        vertical-align: middle;\n",
       "    }\n",
       "\n",
       "    .dataframe tbody tr th {\n",
       "        vertical-align: top;\n",
       "    }\n",
       "\n",
       "    .dataframe thead th {\n",
       "        text-align: right;\n",
       "    }\n",
       "</style>\n",
       "<table border=\"1\" class=\"dataframe\">\n",
       "  <thead>\n",
       "    <tr style=\"text-align: right;\">\n",
       "      <th></th>\n",
       "      <th>track_id</th>\n",
       "      <th>name</th>\n",
       "      <th>artists</th>\n",
       "      <th>album</th>\n",
       "      <th>release_date</th>\n",
       "      <th>duration_ms</th>\n",
       "      <th>explicit</th>\n",
       "      <th>popularity</th>\n",
       "    </tr>\n",
       "  </thead>\n",
       "  <tbody>\n",
       "  </tbody>\n",
       "</table>\n",
       "</div>"
      ],
      "text/plain": [
       "Empty DataFrame\n",
       "Columns: [track_id, name, artists, album, release_date, duration_ms, explicit, popularity]\n",
       "Index: []"
      ]
     },
     "execution_count": 12,
     "metadata": {},
     "output_type": "execute_result"
    }
   ],
   "source": [
    "df[df.duplicated(subset=[\"track_id\"], keep=False)]\n"
   ]
  },
  {
   "cell_type": "code",
   "execution_count": 13,
   "id": "b7ef54a7-0fd1-401a-a0ba-c5cc54ea3da8",
   "metadata": {},
   "outputs": [
    {
     "data": {
      "text/plain": [
       "5547"
      ]
     },
     "execution_count": 13,
     "metadata": {},
     "output_type": "execute_result"
    }
   ],
   "source": [
    "df[\"track_id\"].nunique()"
   ]
  },
  {
   "cell_type": "code",
   "execution_count": 14,
   "id": "a2e4acec-30bc-4f44-b3b0-fe7aa5750192",
   "metadata": {},
   "outputs": [
    {
     "data": {
      "text/plain": [
       "(5547, 8)"
      ]
     },
     "execution_count": 14,
     "metadata": {},
     "output_type": "execute_result"
    }
   ],
   "source": [
    "df.shape"
   ]
  },
  {
   "cell_type": "code",
   "execution_count": 15,
   "id": "f6f784d2-0297-45af-adc2-4c19542977ba",
   "metadata": {},
   "outputs": [],
   "source": [
    "df = df[~df.duplicated(subset=[\"track_id\"], keep=False)]\n"
   ]
  },
  {
   "cell_type": "code",
   "execution_count": 16,
   "id": "b235ddff-6cea-446b-a665-9a53554f05b8",
   "metadata": {},
   "outputs": [
    {
     "data": {
      "text/plain": [
       "(5547, 8)"
      ]
     },
     "execution_count": 16,
     "metadata": {},
     "output_type": "execute_result"
    }
   ],
   "source": [
    "df.shape"
   ]
  },
  {
   "cell_type": "code",
   "execution_count": 17,
   "id": "080c923a-df44-4a27-aaa7-14c2bde960f7",
   "metadata": {},
   "outputs": [],
   "source": [
    "df['release_date'] = pd.to_datetime(df['release_date'], format='mixed', errors='coerce').dt.date\n"
   ]
  },
  {
   "cell_type": "code",
   "execution_count": 18,
   "id": "ccff1e4d-8c89-4b44-a909-3b2858b447a5",
   "metadata": {},
   "outputs": [],
   "source": [
    "df['release_year'] = pd.to_datetime(df['release_date'], errors='coerce').dt.year"
   ]
  },
  {
   "cell_type": "code",
   "execution_count": 19,
   "id": "829e91ed-2040-4728-8d26-1139df7d0db0",
   "metadata": {},
   "outputs": [],
   "source": [
    "df['duration_min'] = df['duration_ms'] / 60000  # 1 minuto = 60.000 ms"
   ]
  },
  {
   "cell_type": "code",
   "execution_count": 20,
   "id": "ed0172b8-abc3-4ba9-95d1-662c43e987ce",
   "metadata": {},
   "outputs": [],
   "source": [
    "df = df.drop_duplicates()"
   ]
  },
  {
   "cell_type": "code",
   "execution_count": 21,
   "id": "4b0f7b0f-0244-444a-bee5-0592341b7426",
   "metadata": {},
   "outputs": [],
   "source": [
    "df = df.drop_duplicates(subset=[\"name\", \"artists\"])\n"
   ]
  },
  {
   "cell_type": "code",
   "execution_count": 22,
   "id": "ac4ba08e-36d4-49d2-ba03-05567b663ac4",
   "metadata": {},
   "outputs": [
    {
     "data": {
      "text/plain": [
       "(4755, 10)"
      ]
     },
     "execution_count": 22,
     "metadata": {},
     "output_type": "execute_result"
    }
   ],
   "source": [
    "df.shape"
   ]
  },
  {
   "cell_type": "code",
   "execution_count": 23,
   "id": "039058f3-9390-42e5-8aed-2859b3548bb4",
   "metadata": {},
   "outputs": [
    {
     "data": {
      "text/plain": [
       "categoria_duracao\n",
       "curta          2241\n",
       "média          1876\n",
       "longa           457\n",
       "muito curta     126\n",
       "muito longa      55\n",
       "Name: count, dtype: int64"
      ]
     },
     "execution_count": 23,
     "metadata": {},
     "output_type": "execute_result"
    }
   ],
   "source": [
    "def classificar_duracao(minutos):\n",
    "    if minutos > 8:\n",
    "        return \"muito longa\"\n",
    "    elif minutos > 4:\n",
    "        return \"longa\"\n",
    "    elif minutos > 3:\n",
    "        return \"média\"\n",
    "    elif minutos > 2:\n",
    "        return \"curta\"\n",
    "    else:\n",
    "        return \"muito curta\"\n",
    "\n",
    "df['categoria_duracao'] = df['duration_min'].apply(classificar_duracao)\n",
    "df['categoria_duracao'].value_counts()\n"
   ]
  },
  {
   "cell_type": "code",
   "execution_count": 24,
   "id": "48c5f04d-3d46-492f-8813-86ac580f8071",
   "metadata": {},
   "outputs": [
    {
     "data": {
      "text/html": [
       "<div>\n",
       "<style scoped>\n",
       "    .dataframe tbody tr th:only-of-type {\n",
       "        vertical-align: middle;\n",
       "    }\n",
       "\n",
       "    .dataframe tbody tr th {\n",
       "        vertical-align: top;\n",
       "    }\n",
       "\n",
       "    .dataframe thead th {\n",
       "        text-align: right;\n",
       "    }\n",
       "</style>\n",
       "<table border=\"1\" class=\"dataframe\">\n",
       "  <thead>\n",
       "    <tr style=\"text-align: right;\">\n",
       "      <th></th>\n",
       "      <th>track_id</th>\n",
       "      <th>name</th>\n",
       "      <th>artists</th>\n",
       "      <th>album</th>\n",
       "      <th>release_date</th>\n",
       "      <th>duration_ms</th>\n",
       "      <th>explicit</th>\n",
       "      <th>popularity</th>\n",
       "      <th>release_year</th>\n",
       "      <th>duration_min</th>\n",
       "      <th>categoria_duracao</th>\n",
       "    </tr>\n",
       "  </thead>\n",
       "  <tbody>\n",
       "    <tr>\n",
       "      <th>0</th>\n",
       "      <td>3hIFGEywPETgcaxrTTt2lD</td>\n",
       "      <td>Falei pra Elas</td>\n",
       "      <td>MC G15</td>\n",
       "      <td>Falei pra Elas</td>\n",
       "      <td>2016-10-06</td>\n",
       "      <td>226185</td>\n",
       "      <td>True</td>\n",
       "      <td>0</td>\n",
       "      <td>2016</td>\n",
       "      <td>3.769750</td>\n",
       "      <td>média</td>\n",
       "    </tr>\n",
       "    <tr>\n",
       "      <th>1</th>\n",
       "      <td>6DNtNfH8hXkqOX1sjqmI7p</td>\n",
       "      <td>Cold Water (feat. Justin Bieber &amp; MØ)</td>\n",
       "      <td>Major Lazer, Justin Bieber, MØ</td>\n",
       "      <td>Cold Water (feat. Justin Bieber &amp; MØ)</td>\n",
       "      <td>2016-07-22</td>\n",
       "      <td>185351</td>\n",
       "      <td>False</td>\n",
       "      <td>3</td>\n",
       "      <td>2016</td>\n",
       "      <td>3.089183</td>\n",
       "      <td>média</td>\n",
       "    </tr>\n",
       "    <tr>\n",
       "      <th>2</th>\n",
       "      <td>3NdDpSvN911VPGivFlV5d0</td>\n",
       "      <td>I Don’t Wanna Live Forever (Fifty Shades Darker)</td>\n",
       "      <td>ZAYN, Taylor Swift</td>\n",
       "      <td>I Don’t Wanna Live Forever (Fifty Shades Darker)</td>\n",
       "      <td>2016-12-09</td>\n",
       "      <td>245200</td>\n",
       "      <td>False</td>\n",
       "      <td>2</td>\n",
       "      <td>2016</td>\n",
       "      <td>4.086667</td>\n",
       "      <td>longa</td>\n",
       "    </tr>\n",
       "    <tr>\n",
       "      <th>3</th>\n",
       "      <td>4RuvPSCJ7xvRVOxiFBUt9B</td>\n",
       "      <td>Tchuk Tchuk</td>\n",
       "      <td>Mc Gui, MC THD</td>\n",
       "      <td>Tchuk Tchuk</td>\n",
       "      <td>2016-10-07</td>\n",
       "      <td>195685</td>\n",
       "      <td>False</td>\n",
       "      <td>0</td>\n",
       "      <td>2016</td>\n",
       "      <td>3.261417</td>\n",
       "      <td>média</td>\n",
       "    </tr>\n",
       "    <tr>\n",
       "      <th>4</th>\n",
       "      <td>4owo0j5bw45IqiHxsTzcd6</td>\n",
       "      <td>Amei Te Ver</td>\n",
       "      <td>TIAGO IORC</td>\n",
       "      <td>Troco Likes</td>\n",
       "      <td>2015-07-10</td>\n",
       "      <td>257847</td>\n",
       "      <td>False</td>\n",
       "      <td>63</td>\n",
       "      <td>2015</td>\n",
       "      <td>4.297450</td>\n",
       "      <td>longa</td>\n",
       "    </tr>\n",
       "  </tbody>\n",
       "</table>\n",
       "</div>"
      ],
      "text/plain": [
       "                 track_id                                              name  \\\n",
       "0  3hIFGEywPETgcaxrTTt2lD                                    Falei pra Elas   \n",
       "1  6DNtNfH8hXkqOX1sjqmI7p             Cold Water (feat. Justin Bieber & MØ)   \n",
       "2  3NdDpSvN911VPGivFlV5d0  I Don’t Wanna Live Forever (Fifty Shades Darker)   \n",
       "3  4RuvPSCJ7xvRVOxiFBUt9B                                       Tchuk Tchuk   \n",
       "4  4owo0j5bw45IqiHxsTzcd6                                       Amei Te Ver   \n",
       "\n",
       "                          artists  \\\n",
       "0                          MC G15   \n",
       "1  Major Lazer, Justin Bieber, MØ   \n",
       "2              ZAYN, Taylor Swift   \n",
       "3                  Mc Gui, MC THD   \n",
       "4                      TIAGO IORC   \n",
       "\n",
       "                                              album release_date  duration_ms  \\\n",
       "0                                    Falei pra Elas   2016-10-06       226185   \n",
       "1             Cold Water (feat. Justin Bieber & MØ)   2016-07-22       185351   \n",
       "2  I Don’t Wanna Live Forever (Fifty Shades Darker)   2016-12-09       245200   \n",
       "3                                       Tchuk Tchuk   2016-10-07       195685   \n",
       "4                                       Troco Likes   2015-07-10       257847   \n",
       "\n",
       "   explicit  popularity  release_year  duration_min categoria_duracao  \n",
       "0      True           0          2016      3.769750             média  \n",
       "1     False           3          2016      3.089183             média  \n",
       "2     False           2          2016      4.086667             longa  \n",
       "3     False           0          2016      3.261417             média  \n",
       "4     False          63          2015      4.297450             longa  "
      ]
     },
     "execution_count": 24,
     "metadata": {},
     "output_type": "execute_result"
    }
   ],
   "source": [
    "df.head()"
   ]
  },
  {
   "cell_type": "code",
   "execution_count": 25,
   "id": "c3f2f983-f219-40bd-8222-47da709625af",
   "metadata": {},
   "outputs": [
    {
     "data": {
      "text/plain": [
       "track_id              object\n",
       "name                  object\n",
       "artists               object\n",
       "album                 object\n",
       "release_date          object\n",
       "duration_ms            int64\n",
       "explicit                bool\n",
       "popularity             int64\n",
       "release_year           int32\n",
       "duration_min         float64\n",
       "categoria_duracao     object\n",
       "dtype: object"
      ]
     },
     "execution_count": 25,
     "metadata": {},
     "output_type": "execute_result"
    }
   ],
   "source": [
    "df.dtypes"
   ]
  },
  {
   "cell_type": "code",
   "execution_count": 26,
   "id": "e26620e7-0910-4dc9-9cee-c8af10f898dc",
   "metadata": {},
   "outputs": [
    {
     "data": {
      "text/html": [
       "<div>\n",
       "<style scoped>\n",
       "    .dataframe tbody tr th:only-of-type {\n",
       "        vertical-align: middle;\n",
       "    }\n",
       "\n",
       "    .dataframe tbody tr th {\n",
       "        vertical-align: top;\n",
       "    }\n",
       "\n",
       "    .dataframe thead th {\n",
       "        text-align: right;\n",
       "    }\n",
       "</style>\n",
       "<table border=\"1\" class=\"dataframe\">\n",
       "  <thead>\n",
       "    <tr style=\"text-align: right;\">\n",
       "      <th></th>\n",
       "      <th>track_id</th>\n",
       "      <th>name</th>\n",
       "      <th>artists</th>\n",
       "      <th>album</th>\n",
       "      <th>release_date</th>\n",
       "      <th>duration_ms</th>\n",
       "      <th>explicit</th>\n",
       "      <th>popularity</th>\n",
       "      <th>release_year</th>\n",
       "      <th>duration_min</th>\n",
       "      <th>categoria_duracao</th>\n",
       "    </tr>\n",
       "  </thead>\n",
       "  <tbody>\n",
       "    <tr>\n",
       "      <th>0</th>\n",
       "      <td>3hIFGEywPETgcaxrTTt2lD</td>\n",
       "      <td>Falei pra Elas</td>\n",
       "      <td>MC G15</td>\n",
       "      <td>Falei pra Elas</td>\n",
       "      <td>2016-10-06</td>\n",
       "      <td>226185</td>\n",
       "      <td>True</td>\n",
       "      <td>0</td>\n",
       "      <td>2016</td>\n",
       "      <td>3.769750</td>\n",
       "      <td>média</td>\n",
       "    </tr>\n",
       "    <tr>\n",
       "      <th>1</th>\n",
       "      <td>6DNtNfH8hXkqOX1sjqmI7p</td>\n",
       "      <td>Cold Water (feat. Justin Bieber &amp; MØ)</td>\n",
       "      <td>Major Lazer, Justin Bieber, MØ</td>\n",
       "      <td>Cold Water (feat. Justin Bieber &amp; MØ)</td>\n",
       "      <td>2016-07-22</td>\n",
       "      <td>185351</td>\n",
       "      <td>False</td>\n",
       "      <td>3</td>\n",
       "      <td>2016</td>\n",
       "      <td>3.089183</td>\n",
       "      <td>média</td>\n",
       "    </tr>\n",
       "    <tr>\n",
       "      <th>2</th>\n",
       "      <td>3NdDpSvN911VPGivFlV5d0</td>\n",
       "      <td>I Don’t Wanna Live Forever (Fifty Shades Darker)</td>\n",
       "      <td>ZAYN, Taylor Swift</td>\n",
       "      <td>I Don’t Wanna Live Forever (Fifty Shades Darker)</td>\n",
       "      <td>2016-12-09</td>\n",
       "      <td>245200</td>\n",
       "      <td>False</td>\n",
       "      <td>2</td>\n",
       "      <td>2016</td>\n",
       "      <td>4.086667</td>\n",
       "      <td>longa</td>\n",
       "    </tr>\n",
       "    <tr>\n",
       "      <th>3</th>\n",
       "      <td>4RuvPSCJ7xvRVOxiFBUt9B</td>\n",
       "      <td>Tchuk Tchuk</td>\n",
       "      <td>Mc Gui, MC THD</td>\n",
       "      <td>Tchuk Tchuk</td>\n",
       "      <td>2016-10-07</td>\n",
       "      <td>195685</td>\n",
       "      <td>False</td>\n",
       "      <td>0</td>\n",
       "      <td>2016</td>\n",
       "      <td>3.261417</td>\n",
       "      <td>média</td>\n",
       "    </tr>\n",
       "    <tr>\n",
       "      <th>4</th>\n",
       "      <td>4owo0j5bw45IqiHxsTzcd6</td>\n",
       "      <td>Amei Te Ver</td>\n",
       "      <td>TIAGO IORC</td>\n",
       "      <td>Troco Likes</td>\n",
       "      <td>2015-07-10</td>\n",
       "      <td>257847</td>\n",
       "      <td>False</td>\n",
       "      <td>63</td>\n",
       "      <td>2015</td>\n",
       "      <td>4.297450</td>\n",
       "      <td>longa</td>\n",
       "    </tr>\n",
       "  </tbody>\n",
       "</table>\n",
       "</div>"
      ],
      "text/plain": [
       "                 track_id                                              name  \\\n",
       "0  3hIFGEywPETgcaxrTTt2lD                                    Falei pra Elas   \n",
       "1  6DNtNfH8hXkqOX1sjqmI7p             Cold Water (feat. Justin Bieber & MØ)   \n",
       "2  3NdDpSvN911VPGivFlV5d0  I Don’t Wanna Live Forever (Fifty Shades Darker)   \n",
       "3  4RuvPSCJ7xvRVOxiFBUt9B                                       Tchuk Tchuk   \n",
       "4  4owo0j5bw45IqiHxsTzcd6                                       Amei Te Ver   \n",
       "\n",
       "                          artists  \\\n",
       "0                          MC G15   \n",
       "1  Major Lazer, Justin Bieber, MØ   \n",
       "2              ZAYN, Taylor Swift   \n",
       "3                  Mc Gui, MC THD   \n",
       "4                      TIAGO IORC   \n",
       "\n",
       "                                              album release_date  duration_ms  \\\n",
       "0                                    Falei pra Elas   2016-10-06       226185   \n",
       "1             Cold Water (feat. Justin Bieber & MØ)   2016-07-22       185351   \n",
       "2  I Don’t Wanna Live Forever (Fifty Shades Darker)   2016-12-09       245200   \n",
       "3                                       Tchuk Tchuk   2016-10-07       195685   \n",
       "4                                       Troco Likes   2015-07-10       257847   \n",
       "\n",
       "   explicit  popularity  release_year  duration_min categoria_duracao  \n",
       "0      True           0          2016      3.769750             média  \n",
       "1     False           3          2016      3.089183             média  \n",
       "2     False           2          2016      4.086667             longa  \n",
       "3     False           0          2016      3.261417             média  \n",
       "4     False          63          2015      4.297450             longa  "
      ]
     },
     "execution_count": 26,
     "metadata": {},
     "output_type": "execute_result"
    }
   ],
   "source": [
    "df.head()"
   ]
  },
  {
   "cell_type": "code",
   "execution_count": 27,
   "id": "edf2cc97-a0fc-4c83-b837-cbba5535b92c",
   "metadata": {},
   "outputs": [
    {
     "data": {
      "text/plain": [
       "(4755, 11)"
      ]
     },
     "execution_count": 27,
     "metadata": {},
     "output_type": "execute_result"
    }
   ],
   "source": [
    "df.shape"
   ]
  },
  {
   "cell_type": "code",
   "execution_count": 29,
   "id": "e5df823c-a219-44f5-a3b7-4de60fc346bf",
   "metadata": {},
   "outputs": [
    {
     "name": "stdout",
     "output_type": "stream",
     "text": [
      "✅ Arquivo limpo salvo em: C:\\Users\\Lucas\\Documents\\Coding\\analise_duracao_spotify\\data\\processed\\spotify_detalhes_limpo.csv\n"
     ]
    }
   ],
   "source": [
    "import os\n",
    "\n",
    "# Caminho da pasta de destino\n",
    "caminho_saida = r\"C:\\Users\\Lucas\\Documents\\Coding\\analise_duracao_spotify\\data\\processed\"\n",
    "os.makedirs(caminho_saida, exist_ok=True)  # Garante que a pasta exista\n",
    "\n",
    "# Caminho completo do arquivo\n",
    "caminho_arquivo_limpo = os.path.join(caminho_saida, \"spotify_detalhes_limpo.csv\")\n",
    "\n",
    "# Salva o DataFrame limpo (substitua \"df_limpo\" pelo nome real do seu DataFrame)\n",
    "df.to_csv(caminho_arquivo_limpo, index=False)\n",
    "\n",
    "print(f\"✅ Arquivo limpo salvo em: {caminho_arquivo_limpo}\")\n"
   ]
  },
  {
   "cell_type": "code",
   "execution_count": null,
   "id": "304c39d9-3b26-4f64-aef8-306045baa669",
   "metadata": {},
   "outputs": [],
   "source": []
  }
 ],
 "metadata": {
  "kernelspec": {
   "display_name": "Python 3 (ipykernel)",
   "language": "python",
   "name": "python3"
  },
  "language_info": {
   "codemirror_mode": {
    "name": "ipython",
    "version": 3
   },
   "file_extension": ".py",
   "mimetype": "text/x-python",
   "name": "python",
   "nbconvert_exporter": "python",
   "pygments_lexer": "ipython3",
   "version": "3.12.7"
  }
 },
 "nbformat": 4,
 "nbformat_minor": 5
}
